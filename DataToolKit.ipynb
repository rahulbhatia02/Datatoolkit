{
 "cells": [
  {
   "cell_type": "markdown",
   "id": "ffc6e251",
   "metadata": {},
   "source": [
    "# Assignment Solutions - Data Toolkit"
   ]
  },
  {
   "cell_type": "markdown",
   "id": "663ede36",
   "metadata": {},
   "source": [
    "### What is NumPy, and why is it widely used in Python"
   ]
  },
  {
   "cell_type": "markdown",
   "id": "066365d9",
   "metadata": {},
   "source": [
    "**Answer:** "
   ]
  },
  {
   "cell_type": "markdown",
   "id": "0afb4c6c",
   "metadata": {},
   "source": [
    "### How does broadcasting work in NumPy"
   ]
  },
  {
   "cell_type": "markdown",
   "id": "154d5dc8",
   "metadata": {},
   "source": [
    "**Answer:** "
   ]
  },
  {
   "cell_type": "markdown",
   "id": "3c2aeda7",
   "metadata": {},
   "source": [
    "### What is a Pandas DataFrame"
   ]
  },
  {
   "cell_type": "markdown",
   "id": "b7e24519",
   "metadata": {},
   "source": [
    "**Answer:** "
   ]
  },
  {
   "cell_type": "markdown",
   "id": "65b0b3da",
   "metadata": {},
   "source": [
    "### Explain the use of the groupby() method in Pandas"
   ]
  },
  {
   "cell_type": "markdown",
   "id": "d80598a0",
   "metadata": {},
   "source": [
    "**Answer:** "
   ]
  },
  {
   "cell_type": "markdown",
   "id": "9beffaee",
   "metadata": {},
   "source": [
    "### Why is Seaborn preferred for statistical visualizations"
   ]
  },
  {
   "cell_type": "markdown",
   "id": "00c5e16e",
   "metadata": {},
   "source": [
    "**Answer:** "
   ]
  },
  {
   "cell_type": "markdown",
   "id": "4e299f06",
   "metadata": {},
   "source": [
    "### What are the differences between NumPy arrays and Python lists"
   ]
  },
  {
   "cell_type": "markdown",
   "id": "5527f44d",
   "metadata": {},
   "source": [
    "**Answer:** "
   ]
  },
  {
   "cell_type": "markdown",
   "id": "9048b844",
   "metadata": {},
   "source": [
    "### What is a heatmap, and when should it be used"
   ]
  },
  {
   "cell_type": "markdown",
   "id": "f7ea1963",
   "metadata": {},
   "source": [
    "**Answer:** "
   ]
  },
  {
   "cell_type": "markdown",
   "id": "432ca6b1",
   "metadata": {},
   "source": [
    "### What does the term 'vectorized operation' mean in NumPy"
   ]
  },
  {
   "cell_type": "markdown",
   "id": "38a6effb",
   "metadata": {},
   "source": [
    "**Answer:** "
   ]
  },
  {
   "cell_type": "markdown",
   "id": "283a1ff3",
   "metadata": {},
   "source": [
    "### How does Matplotlib differ from Plotly"
   ]
  },
  {
   "cell_type": "markdown",
   "id": "de3bcb0e",
   "metadata": {},
   "source": [
    "**Answer:** "
   ]
  },
  {
   "cell_type": "markdown",
   "id": "381b1954",
   "metadata": {},
   "source": [
    "### What is the significance of hierarchical indexing in Pandas"
   ]
  },
  {
   "cell_type": "markdown",
   "id": "c5e1ef81",
   "metadata": {},
   "source": [
    "**Answer:** "
   ]
  },
  {
   "cell_type": "markdown",
   "id": "4e7f508a",
   "metadata": {},
   "source": [
    "### What is the role of Seaborn’s pairplot() function"
   ]
  },
  {
   "cell_type": "markdown",
   "id": "e1906f3b",
   "metadata": {},
   "source": [
    "**Answer:** "
   ]
  },
  {
   "cell_type": "markdown",
   "id": "c3c5b2de",
   "metadata": {},
   "source": [
    "### What is the purpose of the describe() function in Pandas"
   ]
  },
  {
   "cell_type": "markdown",
   "id": "f11f8ceb",
   "metadata": {},
   "source": [
    "**Answer:** "
   ]
  },
  {
   "cell_type": "markdown",
   "id": "8884bd7e",
   "metadata": {},
   "source": [
    "### Why is handling missing data important in Pandas"
   ]
  },
  {
   "cell_type": "markdown",
   "id": "3e0c2f00",
   "metadata": {},
   "source": [
    "**Answer:** "
   ]
  },
  {
   "cell_type": "markdown",
   "id": "991fb7ac",
   "metadata": {},
   "source": [
    "### What are the benefits of using Plotly for data visualization"
   ]
  },
  {
   "cell_type": "markdown",
   "id": "a2663676",
   "metadata": {},
   "source": [
    "**Answer:** "
   ]
  },
  {
   "cell_type": "markdown",
   "id": "9f1dc7fb",
   "metadata": {},
   "source": [
    "### How does NumPy handle multidimensional arrays"
   ]
  },
  {
   "cell_type": "markdown",
   "id": "298cd81f",
   "metadata": {},
   "source": [
    "**Answer:** "
   ]
  },
  {
   "cell_type": "markdown",
   "id": "c125b7f2",
   "metadata": {},
   "source": [
    "### What is the role of Bokeh in data visualization"
   ]
  },
  {
   "cell_type": "markdown",
   "id": "b6740c3d",
   "metadata": {},
   "source": [
    "**Answer:** "
   ]
  },
  {
   "cell_type": "markdown",
   "id": "0c11022c",
   "metadata": {},
   "source": [
    "### Explain the difference between apply() and map() in Pandas"
   ]
  },
  {
   "cell_type": "markdown",
   "id": "df8c9a28",
   "metadata": {},
   "source": [
    "**Answer:** "
   ]
  },
  {
   "cell_type": "markdown",
   "id": "c56eba7d",
   "metadata": {},
   "source": [
    "### What are some advanced features of NumPy"
   ]
  },
  {
   "cell_type": "markdown",
   "id": "41b21808",
   "metadata": {},
   "source": [
    "**Answer:** "
   ]
  },
  {
   "cell_type": "markdown",
   "id": "112656fd",
   "metadata": {},
   "source": [
    "### How does Pandas simplify time series analysis"
   ]
  },
  {
   "cell_type": "markdown",
   "id": "3e372819",
   "metadata": {},
   "source": [
    "**Answer:** "
   ]
  },
  {
   "cell_type": "markdown",
   "id": "0ff18e43",
   "metadata": {},
   "source": [
    "### What is the role of a pivot table in Pandas"
   ]
  },
  {
   "cell_type": "markdown",
   "id": "77c976cd",
   "metadata": {},
   "source": [
    "**Answer:** "
   ]
  },
  {
   "cell_type": "markdown",
   "id": "0bd2eaca",
   "metadata": {},
   "source": [
    "### Why is NumPy’s array slicing faster than Python’s list slicing"
   ]
  },
  {
   "cell_type": "markdown",
   "id": "f9311055",
   "metadata": {},
   "source": [
    "**Answer:** "
   ]
  },
  {
   "cell_type": "markdown",
   "id": "ead3aa68",
   "metadata": {},
   "source": [
    "### What are some common use cases for Seaborn?"
   ]
  },
  {
   "cell_type": "code",
   "execution_count": null,
   "id": "e3572a6b",
   "metadata": {},
   "outputs": [],
   "source": [
    "# Solution goes here"
   ]
  },
  {
   "cell_type": "markdown",
   "id": "85f4f34a",
   "metadata": {},
   "source": [
    "### How do you create a 2D NumPy array and calculate the sum of each row"
   ]
  },
  {
   "cell_type": "markdown",
   "id": "b0bcc1ca",
   "metadata": {},
   "source": [
    "**Answer:** "
   ]
  },
  {
   "cell_type": "markdown",
   "id": "c68d9436",
   "metadata": {},
   "source": [
    "### Write a Pandas script to find the mean of a specific column in a DataFrame"
   ]
  },
  {
   "cell_type": "code",
   "execution_count": null,
   "id": "ac1eebc9",
   "metadata": {},
   "outputs": [],
   "source": [
    "# Solution goes here"
   ]
  },
  {
   "cell_type": "markdown",
   "id": "901493a7",
   "metadata": {},
   "source": [
    "### Create a scatter plot using Matplotlib"
   ]
  },
  {
   "cell_type": "code",
   "execution_count": null,
   "id": "52cf1dd3",
   "metadata": {},
   "outputs": [],
   "source": [
    "# Solution goes here"
   ]
  },
  {
   "cell_type": "markdown",
   "id": "bf6a4a4e",
   "metadata": {},
   "source": [
    "### How do you calculate the correlation matrix using Seaborn and visualize it with a heatmap"
   ]
  },
  {
   "cell_type": "markdown",
   "id": "53ccc586",
   "metadata": {},
   "source": [
    "**Answer:** "
   ]
  },
  {
   "cell_type": "markdown",
   "id": "f7acd38f",
   "metadata": {},
   "source": [
    "### Generate a bar plot using Plotly"
   ]
  },
  {
   "cell_type": "code",
   "execution_count": null,
   "id": "e2d82004",
   "metadata": {},
   "outputs": [],
   "source": [
    "# Solution goes here"
   ]
  },
  {
   "cell_type": "markdown",
   "id": "237feba7",
   "metadata": {},
   "source": [
    "### Create a DataFrame and add a new column based on an existing column"
   ]
  },
  {
   "cell_type": "code",
   "execution_count": null,
   "id": "cc596ee2",
   "metadata": {},
   "outputs": [],
   "source": [
    "# Solution goes here"
   ]
  },
  {
   "cell_type": "markdown",
   "id": "e8d826d2",
   "metadata": {},
   "source": [
    "### Write a program to perform element-wise multiplication of two NumPy arrays"
   ]
  },
  {
   "cell_type": "code",
   "execution_count": null,
   "id": "7e171912",
   "metadata": {},
   "outputs": [],
   "source": [
    "# Solution goes here"
   ]
  },
  {
   "cell_type": "markdown",
   "id": "20c8dd73",
   "metadata": {},
   "source": [
    "### Create a line plot with multiple lines using Matplotlib"
   ]
  },
  {
   "cell_type": "code",
   "execution_count": null,
   "id": "b7c8a2db",
   "metadata": {},
   "outputs": [],
   "source": [
    "# Solution goes here"
   ]
  },
  {
   "cell_type": "markdown",
   "id": "d3024e5a",
   "metadata": {},
   "source": [
    "### Generate a Pandas DataFrame and filter rows where a column value is greater than a threshold"
   ]
  },
  {
   "cell_type": "code",
   "execution_count": null,
   "id": "a6f0b8e3",
   "metadata": {},
   "outputs": [],
   "source": [
    "# Solution goes here"
   ]
  },
  {
   "cell_type": "markdown",
   "id": "39d2e3e7",
   "metadata": {},
   "source": [
    "### Create a histogram using Seaborn to visualize a distribution"
   ]
  },
  {
   "cell_type": "code",
   "execution_count": null,
   "id": "539a6a35",
   "metadata": {},
   "outputs": [],
   "source": [
    "# Solution goes here"
   ]
  },
  {
   "cell_type": "markdown",
   "id": "68ef564b",
   "metadata": {},
   "source": [
    "### Perform matrix multiplication using NumPy"
   ]
  },
  {
   "cell_type": "code",
   "execution_count": null,
   "id": "c08da6f2",
   "metadata": {},
   "outputs": [],
   "source": [
    "# Solution goes here"
   ]
  },
  {
   "cell_type": "markdown",
   "id": "910b42a1",
   "metadata": {},
   "source": [
    "### Use Pandas to load a CSV file and display its first 5 rows"
   ]
  },
  {
   "cell_type": "code",
   "execution_count": null,
   "id": "ed10454e",
   "metadata": {},
   "outputs": [],
   "source": [
    "# Solution goes here"
   ]
  },
  {
   "cell_type": "markdown",
   "id": "1e540ebe",
   "metadata": {},
   "source": [
    "### Create a 3D scatter plot using Plotly"
   ]
  },
  {
   "cell_type": "code",
   "execution_count": null,
   "id": "b0aa7734",
   "metadata": {},
   "outputs": [],
   "source": [
    "# Solution goes here"
   ]
  }
 ],
 "metadata": {},
 "nbformat": 4,
 "nbformat_minor": 5
}
